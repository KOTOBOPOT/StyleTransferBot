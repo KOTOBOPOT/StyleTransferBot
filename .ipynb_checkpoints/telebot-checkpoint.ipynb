{
 "cells": [
  {
   "cell_type": "markdown",
   "id": "4d2784a9",
   "metadata": {},
   "source": [
    "# TODO:\n",
    "## 1. Сделать отдельный файл с токеном и добавить его в в gitignore, чтобы когда на гитхаб выкладывали не было видно какой у нас токен. Соответственно, проделать считывание токена из файла.\n",
    "## 2. Сделать отдельный файл с весами нейронки и добавить его в в gitignore, чтобы когда на гитхаб выкладывали не было видно весов нейросети. Соответственно, проделать считывание весов из файла\n",
    " "
   ]
  },
  {
   "cell_type": "code",
   "execution_count": 1,
   "id": "1b69254d",
   "metadata": {},
   "outputs": [],
   "source": [
    "import telebot\n",
    "import logging\n",
    "import configparser\n",
    "from telebot import types\n"
   ]
  },
  {
   "cell_type": "code",
   "execution_count": 2,
   "id": "b74135c0",
   "metadata": {},
   "outputs": [],
   "source": [
    "token = \"5639499556:AAGvwXXkXJa8Uf0IAIQXZJrfjjNoWyC6bcQ\"\n",
    "bot = telebot.TeleBot(token);\n",
    "\n",
    "\n",
    "\n",
    "logger = telebot.logger\n",
    "telebot.logger.setLevel(logging.DEBUG) # Outputs debug messages to console.\n",
    "\n",
    "\n",
    "launch_counter = 0"
   ]
  },
  {
   "cell_type": "code",
   "execution_count": 3,
   "id": "2ce59da7",
   "metadata": {},
   "outputs": [],
   "source": [
    "launch_counter +=1\n",
    "\n",
    "@bot.message_handler(commands=['start','help'])\n",
    "def send_usual_commands(message):\n",
    "    if message.text == '/start':\n",
    "        bot.reply_to(message, \"Ok, lets start. To proccess photo enter: </pr>. For extra info see </help>\")\n",
    "    else:\n",
    "        bot.reply_to(message, \"This bot process images. To proccess photo enter: </pr>. For extra info see </help>\")\n",
    "        \n",
    "# @bot.message_handler(commands=['help'])\n",
    "# def send_help(message):\n",
    "#     bot.reply_to(message, \"This bot .... info about bot and its' commands\")\n",
    "    \n",
    "@bot.message_handler(commands=['set_up'])\n",
    "def send_settings(message):\n",
    "    INSTRUCTION = \"To update parameters press button on keyboard below.\"\n",
    "    \n",
    "    config = configparser.ConfigParser()\n",
    "    config.read('config.ini')\n",
    "    default_settings = dict(config['DEFAULT'])\n",
    "    \n",
    "    buttons_text = list(default_settings.keys())\n",
    "    buttons_text.append(\"CANCEL\")\n",
    "    \n",
    "    settings_str = \"\"\n",
    "    for (key,item) in dict(default_settings).items():\n",
    "        settings_str+=f\"{key}: \\t{item}\\n\"\n",
    "    \n",
    "    keyboard = types.InlineKeyboardMarkup()\n",
    "    \n",
    "    for btn_txt in buttons_text:\n",
    "        callback_button = types.InlineKeyboardButton(text=btn_txt, callback_data=btn_txt)\n",
    "        keyboard.add(callback_button)\n",
    "\n",
    "    \n",
    "    bot.reply_to(message, f\"Bot current settings:\\n{settings_str}\\n{INSTRUCTION}\",reply_markup=keyboard)\n",
    "    #bot.send_message(message.chat.id, \"Я – сообщение из обычного режима\", reply_markup=keyboard)\n",
    "   \n",
    "\n",
    "\n",
    "\n",
    "\n",
    "@bot.callback_query_handler(func=lambda call: True)\n",
    "def callback_inline(call):\n",
    "    if call.message:\n",
    "        if call.data == \"visibility\":\n",
    "            bot.send_message(call.message.chat.id, f\"Changing visibility. Enter num to replace visibility param:\")\n",
    "            bot.register_next_step_handler(call.message, get_visibility);\n",
    "            print('visibility is chosen')\n",
    "#             keyboard = types.InlineKeyboardMarkup(row_width=3)\n",
    "#             a = types.InlineKeyboardButton(text=\" \", callback_data=\"2\")\n",
    "#             b = types.InlineKeyboardButton(text=\" \", callback_data=\"2\")\n",
    "#             c = types.InlineKeyboardButton(text=\" \", callback_data=\"2\")\n",
    "#             d = types.InlineKeyboardButton(text=\" \", callback_data=\"2\")\n",
    "#             e = types.InlineKeyboardButton(text=\" \", callback_data=\"2\")\n",
    "#             f = types.InlineKeyboardButton(text=\" \", callback_data=\"2\")\n",
    "#             g = types.InlineKeyboardButton(text=\" \", callback_data=\"2\")\n",
    "#             h = types.InlineKeyboardButton(text=\" \", callback_data=\"2\")\n",
    "#             i = types.InlineKeyboardButton(text=\" \", callback_data=\"2\")\n",
    "#             keyboard.add(a, b, c, d, e, f, g, h, i)\n",
    "#             bot.edit_message_text(chat_id=call.message.chat.id, message_id=call.message.message_id, text=\"X\", reply_markup=keyboard)\n",
    "        if call.data == \"CANCEL\":\n",
    "            bot.send_message(call.message.chat.id, f\"Action cancelled\")\n",
    "                \n",
    "        if call.data == \"3\":\n",
    "            keyboard = types.InlineKeyboardMarkup(row_width=3)\n",
    "            a = types.InlineKeyboardButton(text=\" \", callback_data=\"1\")\n",
    "            b = types.InlineKeyboardButton(text=\" \", callback_data=\"1\")\n",
    "            c = types.InlineKeyboardButton(text=\" \", callback_data=\"1\")\n",
    "            d = types.InlineKeyboardButton(text=\" \", callback_data=\"1\")\n",
    "            e = types.InlineKeyboardButton(text=\"0\", callback_data=\"1\")\n",
    "            f = types.InlineKeyboardButton(text=\" \", callback_data=\"1\")\n",
    "            g = types.InlineKeyboardButton(text=\" \", callback_data=\"1\")\n",
    "            h = types.InlineKeyboardButton(text=\" \", callback_data=\"1\")\n",
    "            i = types.InlineKeyboardButton(text=\" \", callback_data=\"1\")\n",
    "            keyboard.add(a, b, c, d, e, f, g, h, i)\n",
    "            bot.edit_message_text(chat_id=call.message.chat.id, message_id=call.message.message_id, text=\"X\", reply_markup=keyboard)\n",
    "            \n",
    "            \n",
    "\n",
    "# bot.register_next_step_handler(message, update_settings);\n",
    "@bot.message_handler(commands=['pr'])\n",
    "def send_processing(message):\n",
    "    bot.reply_to(message, \"Send image to process..\")\n",
    "    bot.register_next_step_handler(message, get_image);\n",
    "@bot.message_handler(content_types=['text'])\n",
    "def get_unknown_message(message):\n",
    "    bot.reply_to(message, \"Unknown message. See </help> command\")\n",
    "\n",
    "\n",
    "#def update_settings(message):\n",
    "def get_visibility(message):\n",
    "    if message.content_type == 'text':\n",
    "        try:\n",
    "            new_value = float(message.text)\n",
    "        except ValueError:\n",
    "            bot.send_message(message.from_user.id, f\"Thats not a num type. Please send text(to cancel send /cancel )\")\n",
    "            bot.register_next_step_handler(message, get_visibility);\n",
    "        else:\n",
    "            bot.send_message(message.from_user.id, f\"Got it. Parameter is changed\")\n",
    "\n",
    "    elif message.text == '/cancel':\n",
    "        bot.send_message(message.from_user.id, f\"Canceling comand.\")\n",
    "    else:\n",
    "        bot.send_message(message.from_user.id, f\"Thats not a text type. Please send text(to cancel send /cancel )\")\n",
    "        bot.register_next_step_handler(message, get_visibility);\n",
    "\n",
    "#@bot.message_handler(content_types=['photo'])\n",
    "def get_image(message):\n",
    "\n",
    "    if message.content_type == 'photo':\n",
    "        raw = message.photo[-1].file_id #max image size id\n",
    "        path = raw+\".jpg\"\n",
    "        file_info = bot.get_file(raw)\n",
    "        downloaded_file = bot.download_file(file_info.file_path)\n",
    "        with open(path,'wb') as new_file:\n",
    "            new_file.write(downloaded_file)\n",
    "            \n",
    "        bot.send_message(message.from_user.id, f\"Got image. Please wait..\")#message.photo)\n",
    "        #HERE IS PIC PROCCESSING\n",
    "    elif message.text == '/cancel':\n",
    "        bot.send_message(message.from_user.id, f\"Canceling comand.\")\n",
    "\n",
    "        #bot.register_next_step_handler(message, );\n",
    "    else:\n",
    "        bot.send_message(message.from_user.id, f\"I cant read this Image or it's not image. Please send image(to cancel send /cancel )\")\n",
    "        bot.register_next_step_handler(message, get_image);\n",
    "        \n",
    "    \n",
    "    \n",
    "# @bot.message_handler(content_types=['text', 'photo'])\n",
    "# def get_message(message):\n",
    "#     #print(type(message.content_type))\n",
    "    \n",
    "#    # bot.send_message(message.from_user.id, message.photo)\n",
    "# #    print(\"lmao\")\n",
    "#     if message.content_type == 'photo':\n",
    "#         bot.send_message(message.from_user.id, f\"Launch counter: {str(launch_counter)}\")#message.photo)\n",
    "#         raw = message.photo[2].file_id\n",
    "# #        print(raw, message.photo[file_id])\n",
    "#         path = raw+\".jpg\"\n",
    "#         file_info = bot.get_file(raw)\n",
    "#         #print(file_info)\n",
    "        \n",
    "#         downloaded_file = bot.download_file(file_info.file_path)\n",
    "#         #download()\n",
    "#        # print(type(downloaded_file),downloaded_file)\n",
    "#         with open(path,'wb') as new_file:\n",
    "#             new_file.write(downloaded_file)\n",
    "            \n",
    "        \n",
    "#    # else:\n",
    "#    #     bot.send_message(message.from_user.id, \"Я тебя не понимаю. Напиши /help.\")\n",
    "        \n",
    "#         #    if message.text == \"Привет\":\n",
    "#  #       bot.send_message(message.from_user.id, \"Привет, чем я могу тебе помочь?\")\n",
    "#   #  elif message.text == \"/help\":\n",
    "#    #     bot.send_message(message.from_user.id, \"Напиши привет\")\n",
    "#     #else:\n",
    "#      #   bot.send_message(message.from_user.id, \"Я тебя не понимаю. Напиши /help.\")"
   ]
  },
  {
   "cell_type": "code",
   "execution_count": 4,
   "id": "481dfcc8",
   "metadata": {
    "scrolled": false
   },
   "outputs": [
    {
     "name": "stderr",
     "output_type": "stream",
     "text": [
      "2023-01-02 11:49:57,209 (apihelper.py:87 MainThread) DEBUG - TeleBot: \"Request: method=get url=https://api.telegram.org/bot5639499556:{TOKEN}/getMe params=None files=None\"\n",
      "2023-01-02 11:49:57,558 (apihelper.py:160 MainThread) DEBUG - TeleBot: \"The server returned: 'b'{\"ok\":true,\"result\":{\"id\":5639499556,\"is_bot\":true,\"first_name\":\"Wound Analyzer\",\"username\":\"WoundAnalyzerBot\",\"can_join_groups\":true,\"can_read_all_group_messages\":false,\"supports_inline_queries\":false}}''\"\n",
      "2023-01-02 11:49:57,559 (__init__.py:1040 MainThread) INFO - TeleBot: \"Starting your bot with username: [@WoundAnalyzerBot]\"\n",
      "2023-01-02 11:49:57,560 (__init__.py:1057 MainThread) INFO - TeleBot: \"Started polling.\"\n",
      "2023-01-02 11:49:57,561 (util.py:97 PollingThread) DEBUG - TeleBot: \"Received task\"\n",
      "2023-01-02 11:49:57,562 (apihelper.py:87 PollingThread) DEBUG - TeleBot: \"Request: method=get url=https://api.telegram.org/bot5639499556:{TOKEN}/getUpdates params={'offset': 1, 'timeout': 20, 'long_polling_timeout': 20} files=None\"\n",
      "2023-01-02 11:50:02,309 (apihelper.py:160 PollingThread) DEBUG - TeleBot: \"The server returned: 'b'{\"ok\":true,\"result\":[{\"update_id\":393609968,\\n\"callback_query\":{\"id\":\"4723841048176266047\",\"from\":{\"id\":1099854951,\"is_bot\":false,\"first_name\":\"KOTOBOPOT\",\"username\":\"KOTOBOPOT\",\"language_code\":\"ru\"},\"message\":{\"message_id\":212,\"from\":{\"id\":5639499556,\"is_bot\":true,\"first_name\":\"Wound Analyzer\",\"username\":\"WoundAnalyzerBot\"},\"chat\":{\"id\":1099854951,\"first_name\":\"KOTOBOPOT\",\"username\":\"KOTOBOPOT\",\"type\":\"private\"},\"date\":1672649302,\"reply_to_message\":{\"message_id\":211,\"from\":{\"id\":1099854951,\"is_bot\":false,\"first_name\":\"KOTOBOPOT\",\"username\":\"KOTOBOPOT\",\"language_code\":\"ru\"},\"chat\":{\"id\":1099854951,\"first_name\":\"KOTOBOPOT\",\"username\":\"KOTOBOPOT\",\"type\":\"private\"},\"date\":1672649301,\"text\":\"/set_up\",\"entities\":[{\"offset\":0,\"length\":7,\"type\":\"bot_command\"}]},\"text\":\"Bot current settings:\\\\nbrightness:  0.5\\\\nvisibility:  0.5\\\\ncolor1:  ecfc0a\\\\ncolor2:  fad328\\\\ncolor3:  ff9000\\\\ncolor4:  fc0505\\\\nauto_apply_changes:  yes\\\\nreturn_separate_predict:  no\\\\n\\\\nTo update parameters press button on keyboard below.\",\"reply_markup\":{\"inline_keyboard\":[[{\"text\":\"brightness\",\"callback_data\":\"brightness\"}],[{\"text\":\"visibility\",\"callback_data\":\"visibility\"}],[{\"text\":\"color1\",\"callback_data\":\"color1\"}],[{\"text\":\"color2\",\"callback_data\":\"color2\"}],[{\"text\":\"color3\",\"callback_data\":\"color3\"}],[{\"text\":\"color4\",\"callback_data\":\"color4\"}],[{\"text\":\"auto_apply_changes\",\"callback_data\":\"auto_apply_changes\"}],[{\"text\":\"return_separate_predict\",\"callback_data\":\"return_separate_predict\"}],[{\"text\":\"CANCEL\",\"callback_data\":\"CANCEL\"}]]}},\"chat_instance\":\"5895083043447225527\",\"data\":\"CANCEL\"}}]}''\"\n",
      "2023-01-02 11:50:02,311 (__init__.py:664 PollingThread) DEBUG - TeleBot: \"Received 1 new updates\"\n",
      "2023-01-02 11:50:02,312 (util.py:101 PollingThread) DEBUG - TeleBot: \"Task complete\"\n",
      "2023-01-02 11:50:02,312 (util.py:97 WorkerThread2) DEBUG - TeleBot: \"Received task\"\n",
      "2023-01-02 11:50:02,315 (util.py:97 PollingThread) DEBUG - TeleBot: \"Received task\"\n",
      "2023-01-02 11:50:02,316 (apihelper.py:87 PollingThread) DEBUG - TeleBot: \"Request: method=get url=https://api.telegram.org/bot5639499556:{TOKEN}/getUpdates params={'offset': 393609969, 'timeout': 20, 'long_polling_timeout': 20} files=None\"\n",
      "2023-01-02 11:50:02,315 (apihelper.py:87 WorkerThread2) DEBUG - TeleBot: \"Request: method=post url=https://api.telegram.org/bot5639499556:{TOKEN}/sendMessage params={'chat_id': '1099854951', 'text': 'Action cancelled'} files=None\"\n",
      "2023-01-02 11:50:02,743 (apihelper.py:160 WorkerThread2) DEBUG - TeleBot: \"The server returned: 'b'{\"ok\":true,\"result\":{\"message_id\":213,\"from\":{\"id\":5639499556,\"is_bot\":true,\"first_name\":\"Wound Analyzer\",\"username\":\"WoundAnalyzerBot\"},\"chat\":{\"id\":1099854951,\"first_name\":\"KOTOBOPOT\",\"username\":\"KOTOBOPOT\",\"type\":\"private\"},\"date\":1672649402,\"text\":\"Action cancelled\"}}''\"\n",
      "2023-01-02 11:50:02,745 (util.py:101 WorkerThread2) DEBUG - TeleBot: \"Task complete\"\n",
      "2023-01-02 11:50:07,923 (apihelper.py:160 PollingThread) DEBUG - TeleBot: \"The server returned: 'b'{\"ok\":true,\"result\":[{\"update_id\":393609969,\\n\"message\":{\"message_id\":214,\"from\":{\"id\":1099854951,\"is_bot\":false,\"first_name\":\"KOTOBOPOT\",\"username\":\"KOTOBOPOT\",\"language_code\":\"ru\"},\"chat\":{\"id\":1099854951,\"first_name\":\"KOTOBOPOT\",\"username\":\"KOTOBOPOT\",\"type\":\"private\"},\"date\":1672649407,\"text\":\"/set_up\",\"entities\":[{\"offset\":0,\"length\":7,\"type\":\"bot_command\"}]}}]}''\"\n",
      "2023-01-02 11:50:07,924 (__init__.py:664 PollingThread) DEBUG - TeleBot: \"Received 1 new updates\"\n",
      "2023-01-02 11:50:07,925 (util.py:101 PollingThread) DEBUG - TeleBot: \"Task complete\"\n",
      "2023-01-02 11:50:07,925 (util.py:97 WorkerThread2) DEBUG - TeleBot: \"Received task\"\n",
      "2023-01-02 11:50:07,926 (util.py:97 PollingThread) DEBUG - TeleBot: \"Received task\"\n",
      "2023-01-02 11:50:07,928 (apihelper.py:87 PollingThread) DEBUG - TeleBot: \"Request: method=get url=https://api.telegram.org/bot5639499556:{TOKEN}/getUpdates params={'offset': 393609970, 'timeout': 20, 'long_polling_timeout': 20} files=None\"\n",
      "2023-01-02 11:50:07,930 (apihelper.py:87 WorkerThread2) DEBUG - TeleBot: \"Request: method=post url=https://api.telegram.org/bot5639499556:{TOKEN}/sendMessage params={'chat_id': '1099854951', 'text': 'Bot current settings:\\nbrightness: \\t0.5\\nvisibility: \\t0.5\\ncolor1: \\tecfc0a\\ncolor2: \\tfad328\\ncolor3: \\tff9000\\ncolor4: \\tfc0505\\nauto_apply_changes: \\tyes\\nreturn_separate_predict: \\tno\\n\\nTo update parameters press button on keyboard below.', 'reply_to_message_id': 214, 'reply_markup': '{\"inline_keyboard\": [[{\"text\": \"brightness\", \"callback_data\": \"brightness\"}], [{\"text\": \"visibility\", \"callback_data\": \"visibility\"}], [{\"text\": \"color1\", \"callback_data\": \"color1\"}], [{\"text\": \"color2\", \"callback_data\": \"color2\"}], [{\"text\": \"color3\", \"callback_data\": \"color3\"}], [{\"text\": \"color4\", \"callback_data\": \"color4\"}], [{\"text\": \"auto_apply_changes\", \"callback_data\": \"auto_apply_changes\"}], [{\"text\": \"return_separate_predict\", \"callback_data\": \"return_separate_predict\"}], [{\"text\": \"CANCEL\", \"callback_data\": \"CANCEL\"}]]}'} files=None\"\n",
      "2023-01-02 11:50:08,156 (apihelper.py:160 WorkerThread2) DEBUG - TeleBot: \"The server returned: 'b'{\"ok\":true,\"result\":{\"message_id\":215,\"from\":{\"id\":5639499556,\"is_bot\":true,\"first_name\":\"Wound Analyzer\",\"username\":\"WoundAnalyzerBot\"},\"chat\":{\"id\":1099854951,\"first_name\":\"KOTOBOPOT\",\"username\":\"KOTOBOPOT\",\"type\":\"private\"},\"date\":1672649408,\"reply_to_message\":{\"message_id\":214,\"from\":{\"id\":1099854951,\"is_bot\":false,\"first_name\":\"KOTOBOPOT\",\"username\":\"KOTOBOPOT\",\"language_code\":\"ru\"},\"chat\":{\"id\":1099854951,\"first_name\":\"KOTOBOPOT\",\"username\":\"KOTOBOPOT\",\"type\":\"private\"},\"date\":1672649407,\"text\":\"/set_up\",\"entities\":[{\"offset\":0,\"length\":7,\"type\":\"bot_command\"}]},\"text\":\"Bot current settings:\\\\nbrightness:  0.5\\\\nvisibility:  0.5\\\\ncolor1:  ecfc0a\\\\ncolor2:  fad328\\\\ncolor3:  ff9000\\\\ncolor4:  fc0505\\\\nauto_apply_changes:  yes\\\\nreturn_separate_predict:  no\\\\n\\\\nTo update parameters press button on keyboard below.\",\"reply_markup\":{\"inline_keyboard\":[[{\"text\":\"brightness\",\"callback_data\":\"brightness\"}],[{\"text\":\"visibility\",\"callback_data\":\"visibility\"}],[{\"text\":\"color1\",\"callback_data\":\"color1\"}],[{\"text\":\"color2\",\"callback_data\":\"color2\"}],[{\"text\":\"color3\",\"callback_data\":\"color3\"}],[{\"text\":\"color4\",\"callback_data\":\"color4\"}],[{\"text\":\"auto_apply_changes\",\"callback_data\":\"auto_apply_changes\"}],[{\"text\":\"return_separate_predict\",\"callback_data\":\"return_separate_predict\"}],[{\"text\":\"CANCEL\",\"callback_data\":\"CANCEL\"}]]}}}''\"\n",
      "2023-01-02 11:50:08,157 (util.py:101 WorkerThread2) DEBUG - TeleBot: \"Task complete\"\n",
      "2023-01-02 11:50:10,309 (apihelper.py:160 PollingThread) DEBUG - TeleBot: \"The server returned: 'b'{\"ok\":true,\"result\":[{\"update_id\":393609970,\\n\"callback_query\":{\"id\":\"4723841046071410655\",\"from\":{\"id\":1099854951,\"is_bot\":false,\"first_name\":\"KOTOBOPOT\",\"username\":\"KOTOBOPOT\",\"language_code\":\"ru\"},\"message\":{\"message_id\":215,\"from\":{\"id\":5639499556,\"is_bot\":true,\"first_name\":\"Wound Analyzer\",\"username\":\"WoundAnalyzerBot\"},\"chat\":{\"id\":1099854951,\"first_name\":\"KOTOBOPOT\",\"username\":\"KOTOBOPOT\",\"type\":\"private\"},\"date\":1672649408,\"reply_to_message\":{\"message_id\":214,\"from\":{\"id\":1099854951,\"is_bot\":false,\"first_name\":\"KOTOBOPOT\",\"username\":\"KOTOBOPOT\",\"language_code\":\"ru\"},\"chat\":{\"id\":1099854951,\"first_name\":\"KOTOBOPOT\",\"username\":\"KOTOBOPOT\",\"type\":\"private\"},\"date\":1672649407,\"text\":\"/set_up\",\"entities\":[{\"offset\":0,\"length\":7,\"type\":\"bot_command\"}]},\"text\":\"Bot current settings:\\\\nbrightness:  0.5\\\\nvisibility:  0.5\\\\ncolor1:  ecfc0a\\\\ncolor2:  fad328\\\\ncolor3:  ff9000\\\\ncolor4:  fc0505\\\\nauto_apply_changes:  yes\\\\nreturn_separate_predict:  no\\\\n\\\\nTo update parameters press button on keyboard below.\",\"reply_markup\":{\"inline_keyboard\":[[{\"text\":\"brightness\",\"callback_data\":\"brightness\"}],[{\"text\":\"visibility\",\"callback_data\":\"visibility\"}],[{\"text\":\"color1\",\"callback_data\":\"color1\"}],[{\"text\":\"color2\",\"callback_data\":\"color2\"}],[{\"text\":\"color3\",\"callback_data\":\"color3\"}],[{\"text\":\"color4\",\"callback_data\":\"color4\"}],[{\"text\":\"auto_apply_changes\",\"callback_data\":\"auto_apply_changes\"}],[{\"text\":\"return_separate_predict\",\"callback_data\":\"return_separate_predict\"}],[{\"text\":\"CANCEL\",\"callback_data\":\"CANCEL\"}]]}},\"chat_instance\":\"5895083043447225527\",\"data\":\"visibility\"}}]}''\"\n"
     ]
    },
    {
     "name": "stderr",
     "output_type": "stream",
     "text": [
      "2023-01-02 11:50:10,311 (__init__.py:664 PollingThread) DEBUG - TeleBot: \"Received 1 new updates\"\n",
      "2023-01-02 11:50:10,312 (util.py:101 PollingThread) DEBUG - TeleBot: \"Task complete\"\n",
      "2023-01-02 11:50:10,312 (util.py:97 WorkerThread1) DEBUG - TeleBot: \"Received task\"\n",
      "2023-01-02 11:50:10,314 (util.py:97 PollingThread) DEBUG - TeleBot: \"Received task\"\n",
      "2023-01-02 11:50:10,314 (apihelper.py:87 WorkerThread1) DEBUG - TeleBot: \"Request: method=post url=https://api.telegram.org/bot5639499556:{TOKEN}/sendMessage params={'chat_id': '1099854951', 'text': 'Changing visibility. Enter num to replace visibility param:'} files=None\"\n",
      "2023-01-02 11:50:10,315 (apihelper.py:87 PollingThread) DEBUG - TeleBot: \"Request: method=get url=https://api.telegram.org/bot5639499556:{TOKEN}/getUpdates params={'offset': 393609971, 'timeout': 20, 'long_polling_timeout': 20} files=None\"\n",
      "2023-01-02 11:50:10,653 (apihelper.py:160 WorkerThread1) DEBUG - TeleBot: \"The server returned: 'b'{\"ok\":true,\"result\":{\"message_id\":216,\"from\":{\"id\":5639499556,\"is_bot\":true,\"first_name\":\"Wound Analyzer\",\"username\":\"WoundAnalyzerBot\"},\"chat\":{\"id\":1099854951,\"first_name\":\"KOTOBOPOT\",\"username\":\"KOTOBOPOT\",\"type\":\"private\"},\"date\":1672649410,\"text\":\"Changing visibility. Enter num to replace visibility param:\"}}''\"\n",
      "2023-01-02 11:50:10,654 (util.py:101 WorkerThread1) DEBUG - TeleBot: \"Task complete\"\n"
     ]
    },
    {
     "name": "stdout",
     "output_type": "stream",
     "text": [
      "visibility is chosen\n"
     ]
    },
    {
     "name": "stderr",
     "output_type": "stream",
     "text": [
      "2023-01-02 11:50:14,971 (apihelper.py:160 PollingThread) DEBUG - TeleBot: \"The server returned: 'b'{\"ok\":true,\"result\":[{\"update_id\":393609971,\\n\"message\":{\"message_id\":217,\"from\":{\"id\":1099854951,\"is_bot\":false,\"first_name\":\"KOTOBOPOT\",\"username\":\"KOTOBOPOT\",\"language_code\":\"ru\"},\"chat\":{\"id\":1099854951,\"first_name\":\"KOTOBOPOT\",\"username\":\"KOTOBOPOT\",\"type\":\"private\"},\"date\":1672649414,\"text\":\"s\"}}]}''\"\n",
      "2023-01-02 11:50:14,973 (__init__.py:664 PollingThread) DEBUG - TeleBot: \"Received 1 new updates\"\n",
      "2023-01-02 11:50:14,973 (util.py:101 PollingThread) DEBUG - TeleBot: \"Task complete\"\n",
      "2023-01-02 11:50:14,974 (util.py:97 WorkerThread1) DEBUG - TeleBot: \"Received task\"\n",
      "2023-01-02 11:50:14,974 (util.py:97 PollingThread) DEBUG - TeleBot: \"Received task\"\n",
      "2023-01-02 11:50:14,975 (apihelper.py:87 WorkerThread1) DEBUG - TeleBot: \"Request: method=post url=https://api.telegram.org/bot5639499556:{TOKEN}/sendMessage params={'chat_id': '1099854951', 'text': 'Thats not a num type. Please send text(to cancel send /cancel )'} files=None\"\n",
      "2023-01-02 11:50:14,975 (apihelper.py:87 PollingThread) DEBUG - TeleBot: \"Request: method=get url=https://api.telegram.org/bot5639499556:{TOKEN}/getUpdates params={'offset': 393609972, 'timeout': 20, 'long_polling_timeout': 20} files=None\"\n",
      "2023-01-02 11:50:15,109 (apihelper.py:160 WorkerThread1) DEBUG - TeleBot: \"The server returned: 'b'{\"ok\":true,\"result\":{\"message_id\":218,\"from\":{\"id\":5639499556,\"is_bot\":true,\"first_name\":\"Wound Analyzer\",\"username\":\"WoundAnalyzerBot\"},\"chat\":{\"id\":1099854951,\"first_name\":\"KOTOBOPOT\",\"username\":\"KOTOBOPOT\",\"type\":\"private\"},\"date\":1672649415,\"text\":\"Thats not a num type. Please send text(to cancel send /cancel )\",\"entities\":[{\"offset\":54,\"length\":7,\"type\":\"bot_command\"}]}}''\"\n",
      "2023-01-02 11:50:15,111 (util.py:101 WorkerThread1) DEBUG - TeleBot: \"Task complete\"\n",
      "2023-01-02 11:50:17,470 (apihelper.py:160 PollingThread) DEBUG - TeleBot: \"The server returned: 'b'{\"ok\":true,\"result\":[{\"update_id\":393609972,\\n\"message\":{\"message_id\":219,\"from\":{\"id\":1099854951,\"is_bot\":false,\"first_name\":\"KOTOBOPOT\",\"username\":\"KOTOBOPOT\",\"language_code\":\"ru\"},\"chat\":{\"id\":1099854951,\"first_name\":\"KOTOBOPOT\",\"username\":\"KOTOBOPOT\",\"type\":\"private\"},\"date\":1672649417,\"text\":\"s\"}}]}''\"\n",
      "2023-01-02 11:50:17,471 (__init__.py:664 PollingThread) DEBUG - TeleBot: \"Received 1 new updates\"\n",
      "2023-01-02 11:50:17,472 (util.py:101 PollingThread) DEBUG - TeleBot: \"Task complete\"\n",
      "2023-01-02 11:50:17,472 (util.py:97 WorkerThread1) DEBUG - TeleBot: \"Received task\"\n",
      "2023-01-02 11:50:17,473 (util.py:97 PollingThread) DEBUG - TeleBot: \"Received task\"\n",
      "2023-01-02 11:50:17,474 (apihelper.py:87 WorkerThread1) DEBUG - TeleBot: \"Request: method=post url=https://api.telegram.org/bot5639499556:{TOKEN}/sendMessage params={'chat_id': '1099854951', 'text': 'Thats not a num type. Please send text(to cancel send /cancel )'} files=None\"\n",
      "2023-01-02 11:50:17,474 (apihelper.py:87 PollingThread) DEBUG - TeleBot: \"Request: method=get url=https://api.telegram.org/bot5639499556:{TOKEN}/getUpdates params={'offset': 393609973, 'timeout': 20, 'long_polling_timeout': 20} files=None\"\n",
      "2023-01-02 11:50:17,593 (apihelper.py:160 WorkerThread1) DEBUG - TeleBot: \"The server returned: 'b'{\"ok\":true,\"result\":{\"message_id\":220,\"from\":{\"id\":5639499556,\"is_bot\":true,\"first_name\":\"Wound Analyzer\",\"username\":\"WoundAnalyzerBot\"},\"chat\":{\"id\":1099854951,\"first_name\":\"KOTOBOPOT\",\"username\":\"KOTOBOPOT\",\"type\":\"private\"},\"date\":1672649417,\"text\":\"Thats not a num type. Please send text(to cancel send /cancel )\",\"entities\":[{\"offset\":54,\"length\":7,\"type\":\"bot_command\"}]}}''\"\n",
      "2023-01-02 11:50:17,594 (util.py:101 WorkerThread1) DEBUG - TeleBot: \"Task complete\"\n",
      "2023-01-02 11:50:21,859 (apihelper.py:160 PollingThread) DEBUG - TeleBot: \"The server returned: 'b'{\"ok\":true,\"result\":[{\"update_id\":393609973,\\n\"message\":{\"message_id\":221,\"from\":{\"id\":1099854951,\"is_bot\":false,\"first_name\":\"KOTOBOPOT\",\"username\":\"KOTOBOPOT\",\"language_code\":\"ru\"},\"chat\":{\"id\":1099854951,\"first_name\":\"KOTOBOPOT\",\"username\":\"KOTOBOPOT\",\"type\":\"private\"},\"date\":1672649421,\"text\":\"3\"}}]}''\"\n",
      "2023-01-02 11:50:21,859 (__init__.py:664 PollingThread) DEBUG - TeleBot: \"Received 1 new updates\"\n",
      "2023-01-02 11:50:21,860 (util.py:101 PollingThread) DEBUG - TeleBot: \"Task complete\"\n",
      "2023-01-02 11:50:21,860 (util.py:97 WorkerThread2) DEBUG - TeleBot: \"Received task\"\n",
      "2023-01-02 11:50:21,860 (util.py:97 PollingThread) DEBUG - TeleBot: \"Received task\"\n",
      "2023-01-02 11:50:21,861 (apihelper.py:87 WorkerThread2) DEBUG - TeleBot: \"Request: method=post url=https://api.telegram.org/bot5639499556:{TOKEN}/sendMessage params={'chat_id': '1099854951', 'text': 'Got it. Parameter is changed'} files=None\"\n",
      "2023-01-02 11:50:21,862 (apihelper.py:87 PollingThread) DEBUG - TeleBot: \"Request: method=get url=https://api.telegram.org/bot5639499556:{TOKEN}/getUpdates params={'offset': 393609974, 'timeout': 20, 'long_polling_timeout': 20} files=None\"\n",
      "2023-01-02 11:50:22,037 (apihelper.py:160 WorkerThread2) DEBUG - TeleBot: \"The server returned: 'b'{\"ok\":true,\"result\":{\"message_id\":222,\"from\":{\"id\":5639499556,\"is_bot\":true,\"first_name\":\"Wound Analyzer\",\"username\":\"WoundAnalyzerBot\"},\"chat\":{\"id\":1099854951,\"first_name\":\"KOTOBOPOT\",\"username\":\"KOTOBOPOT\",\"type\":\"private\"},\"date\":1672649422,\"text\":\"Got it. Parameter is changed\"}}''\"\n",
      "2023-01-02 11:50:22,039 (util.py:101 WorkerThread2) DEBUG - TeleBot: \"Task complete\"\n",
      "2023-01-02 11:50:41,967 (apihelper.py:160 PollingThread) DEBUG - TeleBot: \"The server returned: 'b'{\"ok\":true,\"result\":[]}''\"\n",
      "2023-01-02 11:50:41,967 (__init__.py:664 PollingThread) DEBUG - TeleBot: \"Received 0 new updates\"\n",
      "2023-01-02 11:50:41,968 (util.py:101 PollingThread) DEBUG - TeleBot: \"Task complete\"\n",
      "2023-01-02 11:50:41,968 (util.py:97 PollingThread) DEBUG - TeleBot: \"Received task\"\n",
      "2023-01-02 11:50:41,969 (apihelper.py:87 PollingThread) DEBUG - TeleBot: \"Request: method=get url=https://api.telegram.org/bot5639499556:{TOKEN}/getUpdates params={'offset': 393609974, 'timeout': 20, 'long_polling_timeout': 20} files=None\"\n",
      "2023-01-02 11:51:02,071 (apihelper.py:160 PollingThread) DEBUG - TeleBot: \"The server returned: 'b'{\"ok\":true,\"result\":[]}''\"\n",
      "2023-01-02 11:51:02,073 (__init__.py:664 PollingThread) DEBUG - TeleBot: \"Received 0 new updates\"\n",
      "2023-01-02 11:51:02,075 (util.py:101 PollingThread) DEBUG - TeleBot: \"Task complete\"\n",
      "2023-01-02 11:51:02,076 (util.py:97 PollingThread) DEBUG - TeleBot: \"Received task\"\n",
      "2023-01-02 11:51:02,077 (apihelper.py:87 PollingThread) DEBUG - TeleBot: \"Request: method=get url=https://api.telegram.org/bot5639499556:{TOKEN}/getUpdates params={'offset': 393609974, 'timeout': 20, 'long_polling_timeout': 20} files=None\"\n",
      "2023-01-02 11:51:22,179 (apihelper.py:160 PollingThread) DEBUG - TeleBot: \"The server returned: 'b'{\"ok\":true,\"result\":[]}''\"\n",
      "2023-01-02 11:51:22,179 (__init__.py:664 PollingThread) DEBUG - TeleBot: \"Received 0 new updates\"\n",
      "2023-01-02 11:51:22,180 (util.py:101 PollingThread) DEBUG - TeleBot: \"Task complete\"\n",
      "2023-01-02 11:51:22,181 (util.py:97 PollingThread) DEBUG - TeleBot: \"Received task\"\n",
      "2023-01-02 11:51:22,181 (apihelper.py:87 PollingThread) DEBUG - TeleBot: \"Request: method=get url=https://api.telegram.org/bot5639499556:{TOKEN}/getUpdates params={'offset': 393609974, 'timeout': 20, 'long_polling_timeout': 20} files=None\"\n",
      "2023-01-02 11:51:42,282 (apihelper.py:160 PollingThread) DEBUG - TeleBot: \"The server returned: 'b'{\"ok\":true,\"result\":[]}''\"\n",
      "2023-01-02 11:51:42,283 (__init__.py:664 PollingThread) DEBUG - TeleBot: \"Received 0 new updates\"\n",
      "2023-01-02 11:51:42,283 (util.py:101 PollingThread) DEBUG - TeleBot: \"Task complete\"\n",
      "2023-01-02 11:51:42,284 (util.py:97 PollingThread) DEBUG - TeleBot: \"Received task\"\n",
      "2023-01-02 11:51:42,285 (apihelper.py:87 PollingThread) DEBUG - TeleBot: \"Request: method=get url=https://api.telegram.org/bot5639499556:{TOKEN}/getUpdates params={'offset': 393609974, 'timeout': 20, 'long_polling_timeout': 20} files=None\"\n",
      "2023-01-02 11:52:02,388 (apihelper.py:160 PollingThread) DEBUG - TeleBot: \"The server returned: 'b'{\"ok\":true,\"result\":[]}''\"\n",
      "2023-01-02 11:52:02,389 (__init__.py:664 PollingThread) DEBUG - TeleBot: \"Received 0 new updates\"\n",
      "2023-01-02 11:52:02,391 (util.py:101 PollingThread) DEBUG - TeleBot: \"Task complete\"\n"
     ]
    },
    {
     "name": "stderr",
     "output_type": "stream",
     "text": [
      "2023-01-02 11:52:02,393 (util.py:97 PollingThread) DEBUG - TeleBot: \"Received task\"\n",
      "2023-01-02 11:52:02,393 (apihelper.py:87 PollingThread) DEBUG - TeleBot: \"Request: method=get url=https://api.telegram.org/bot5639499556:{TOKEN}/getUpdates params={'offset': 393609974, 'timeout': 20, 'long_polling_timeout': 20} files=None\"\n",
      "2023-01-02 11:52:22,496 (apihelper.py:160 PollingThread) DEBUG - TeleBot: \"The server returned: 'b'{\"ok\":true,\"result\":[]}''\"\n",
      "2023-01-02 11:52:22,498 (__init__.py:664 PollingThread) DEBUG - TeleBot: \"Received 0 new updates\"\n",
      "2023-01-02 11:52:22,498 (util.py:101 PollingThread) DEBUG - TeleBot: \"Task complete\"\n",
      "2023-01-02 11:52:22,500 (util.py:97 PollingThread) DEBUG - TeleBot: \"Received task\"\n",
      "2023-01-02 11:52:22,501 (apihelper.py:87 PollingThread) DEBUG - TeleBot: \"Request: method=get url=https://api.telegram.org/bot5639499556:{TOKEN}/getUpdates params={'offset': 393609974, 'timeout': 20, 'long_polling_timeout': 20} files=None\"\n",
      "2023-01-02 11:52:42,604 (apihelper.py:160 PollingThread) DEBUG - TeleBot: \"The server returned: 'b'{\"ok\":true,\"result\":[]}''\"\n",
      "2023-01-02 11:52:42,605 (__init__.py:664 PollingThread) DEBUG - TeleBot: \"Received 0 new updates\"\n",
      "2023-01-02 11:52:42,605 (util.py:101 PollingThread) DEBUG - TeleBot: \"Task complete\"\n",
      "2023-01-02 11:52:42,606 (util.py:97 PollingThread) DEBUG - TeleBot: \"Received task\"\n",
      "2023-01-02 11:52:42,607 (apihelper.py:87 PollingThread) DEBUG - TeleBot: \"Request: method=get url=https://api.telegram.org/bot5639499556:{TOKEN}/getUpdates params={'offset': 393609974, 'timeout': 20, 'long_polling_timeout': 20} files=None\"\n",
      "2023-01-02 11:53:02,708 (apihelper.py:160 PollingThread) DEBUG - TeleBot: \"The server returned: 'b'{\"ok\":true,\"result\":[]}''\"\n",
      "2023-01-02 11:53:02,710 (__init__.py:664 PollingThread) DEBUG - TeleBot: \"Received 0 new updates\"\n",
      "2023-01-02 11:53:02,711 (util.py:101 PollingThread) DEBUG - TeleBot: \"Task complete\"\n",
      "2023-01-02 11:53:02,713 (util.py:97 PollingThread) DEBUG - TeleBot: \"Received task\"\n",
      "2023-01-02 11:53:02,713 (apihelper.py:87 PollingThread) DEBUG - TeleBot: \"Request: method=get url=https://api.telegram.org/bot5639499556:{TOKEN}/getUpdates params={'offset': 393609974, 'timeout': 20, 'long_polling_timeout': 20} files=None\"\n",
      "2023-01-02 11:53:22,814 (apihelper.py:160 PollingThread) DEBUG - TeleBot: \"The server returned: 'b'{\"ok\":true,\"result\":[]}''\"\n",
      "2023-01-02 11:53:22,815 (__init__.py:664 PollingThread) DEBUG - TeleBot: \"Received 0 new updates\"\n",
      "2023-01-02 11:53:22,815 (util.py:101 PollingThread) DEBUG - TeleBot: \"Task complete\"\n",
      "2023-01-02 11:53:22,816 (util.py:97 PollingThread) DEBUG - TeleBot: \"Received task\"\n",
      "2023-01-02 11:53:22,816 (apihelper.py:87 PollingThread) DEBUG - TeleBot: \"Request: method=get url=https://api.telegram.org/bot5639499556:{TOKEN}/getUpdates params={'offset': 393609974, 'timeout': 20, 'long_polling_timeout': 20} files=None\"\n",
      "2023-01-02 11:53:42,920 (apihelper.py:160 PollingThread) DEBUG - TeleBot: \"The server returned: 'b'{\"ok\":true,\"result\":[]}''\"\n",
      "2023-01-02 11:53:42,921 (__init__.py:664 PollingThread) DEBUG - TeleBot: \"Received 0 new updates\"\n",
      "2023-01-02 11:53:42,921 (util.py:101 PollingThread) DEBUG - TeleBot: \"Task complete\"\n",
      "2023-01-02 11:53:42,921 (util.py:97 PollingThread) DEBUG - TeleBot: \"Received task\"\n",
      "2023-01-02 11:53:42,922 (apihelper.py:87 PollingThread) DEBUG - TeleBot: \"Request: method=get url=https://api.telegram.org/bot5639499556:{TOKEN}/getUpdates params={'offset': 393609974, 'timeout': 20, 'long_polling_timeout': 20} files=None\"\n",
      "2023-01-02 11:53:57,970 (__init__.py:1106 MainThread) INFO - TeleBot: \"KeyboardInterrupt received.\"\n",
      "2023-01-02 11:53:57,971 (__init__.py:1128 MainThread) INFO - TeleBot: \"Stopped polling.\"\n"
     ]
    }
   ],
   "source": [
    "bot.polling(non_stop=False, interval=0)"
   ]
  },
  {
   "cell_type": "code",
   "execution_count": null,
   "id": "be458e50",
   "metadata": {},
   "outputs": [],
   "source": []
  },
  {
   "cell_type": "code",
   "execution_count": 5,
   "id": "8fe6415a",
   "metadata": {},
   "outputs": [
    {
     "name": "stdout",
     "output_type": "stream",
     "text": [
      "{'123': '213'}\n"
     ]
    }
   ],
   "source": [
    "print({\"123\":\"213\"})"
   ]
  },
  {
   "cell_type": "code",
   "execution_count": 6,
   "id": "a9b19c7d",
   "metadata": {},
   "outputs": [
    {
     "name": "stdout",
     "output_type": "stream",
     "text": [
      "a\n",
      "a\n"
     ]
    }
   ],
   "source": [
    "print('a\\na')"
   ]
  },
  {
   "cell_type": "code",
   "execution_count": null,
   "id": "808c76a5",
   "metadata": {},
   "outputs": [],
   "source": []
  },
  {
   "cell_type": "code",
   "execution_count": 14,
   "id": "ddd17112",
   "metadata": {},
   "outputs": [],
   "source": [
    "import configparser\n",
    "config = configparser.ConfigParser()\n",
    "config['DEFAULT'] = {\n",
    "    \"brightness\":'0.5', \n",
    "    'visibility':'0.5',\n",
    "\n",
    "    #Цвета в HEX формате\n",
    "    'color1':'ecfc0a',#желтый\n",
    "    'color2':'fad328',#светло-оранжевый\n",
    "    'color3':'ff9000',#темно-оранжевый\n",
    "    'color4':'fc0505',#красный\n",
    "    \n",
    "    'auto_apply_changes':'yes',\n",
    "    'return_separate_predict':'no'\n",
    "    \n",
    "    }\n",
    "\n",
    "#{'ServerAliveInterval': '45',\n",
    "                    # 'Compression': 'yes',\n",
    "                    # 'CompressionLevel': '9'}\n",
    "# config['bitbucket.org'] = {}\n",
    "# config['bitbucket.org']['User'] = 'hg'\n",
    "# config['topsecret.server.com'] = {}\n",
    "# topsecret = config['topsecret.server.com']\n",
    "# topsecret['Port'] = '50022'     # mutates the parser\n",
    "# topsecret['ForwardX11'] = 'no'  # same here\n",
    "# config['DEFAULT']['ForwardX11'] = 'yes'\n",
    "with open('config.ini', 'w') as configfile:\n",
    "  config.write(configfile)"
   ]
  },
  {
   "cell_type": "code",
   "execution_count": 8,
   "id": "574c3513",
   "metadata": {},
   "outputs": [
    {
     "name": "stdout",
     "output_type": "stream",
     "text": [
      "{'brightness': '0.5', 'visibility': '0.5', 'color1': 'ecfc0a', 'color2': 'fad328', 'color3': 'ff9000', 'color4': 'fc0505', 'auto_apply_changes': 'yes', 'return_separate_predict': 'no'}\n"
     ]
    }
   ],
   "source": [
    "print(dict(config['DEFAULT']))"
   ]
  },
  {
   "cell_type": "code",
   "execution_count": 9,
   "id": "85fcc3ac",
   "metadata": {},
   "outputs": [
    {
     "name": "stdout",
     "output_type": "stream",
     "text": [
      "brightness: 0.5\n",
      "visibility: 0.5\n",
      "color1: ecfc0a\n",
      "color2: fad328\n",
      "color3: ff9000\n",
      "color4: fc0505\n",
      "auto_apply_changes: yes\n",
      "return_separate_predict: no\n",
      "\n"
     ]
    }
   ],
   "source": [
    "settings_str = \"\"\n",
    "for (key,item) in dict(config['DEFAULT']).items():\n",
    "    settings_str+=f\"{key}: {item}\\n\" #print(key,item)\n",
    "print(settings_str)    "
   ]
  },
  {
   "cell_type": "code",
   "execution_count": null,
   "id": "fa91686c",
   "metadata": {},
   "outputs": [],
   "source": []
  },
  {
   "cell_type": "code",
   "execution_count": 10,
   "id": "065d6449",
   "metadata": {},
   "outputs": [
    {
     "data": {
      "text/plain": [
       "['brightness',\n",
       " 'visibility',\n",
       " 'color1',\n",
       " 'color2',\n",
       " 'color3',\n",
       " 'color4',\n",
       " 'auto_apply_changes',\n",
       " 'return_separate_predict']"
      ]
     },
     "execution_count": 10,
     "metadata": {},
     "output_type": "execute_result"
    }
   ],
   "source": [
    "a = dict(config['DEFAULT'])\n",
    "list(a.keys())"
   ]
  },
  {
   "cell_type": "code",
   "execution_count": null,
   "id": "c0563ffa",
   "metadata": {},
   "outputs": [],
   "source": []
  },
  {
   "cell_type": "code",
   "execution_count": null,
   "id": "c88cdfc6",
   "metadata": {},
   "outputs": [],
   "source": []
  },
  {
   "cell_type": "code",
   "execution_count": null,
   "id": "e5afdfe8",
   "metadata": {},
   "outputs": [],
   "source": []
  },
  {
   "cell_type": "code",
   "execution_count": null,
   "id": "83ec0c9b",
   "metadata": {},
   "outputs": [],
   "source": []
  },
  {
   "cell_type": "code",
   "execution_count": null,
   "id": "21dc58ff",
   "metadata": {},
   "outputs": [],
   "source": []
  },
  {
   "cell_type": "code",
   "execution_count": null,
   "id": "e5ee3bfe",
   "metadata": {},
   "outputs": [],
   "source": []
  },
  {
   "cell_type": "code",
   "execution_count": 11,
   "id": "bd49cb70",
   "metadata": {},
   "outputs": [],
   "source": [
    "class NNBOT:\n",
    "    def __init__(self, token, is_logging = True):\n",
    "        self.token = token\n",
    "        self.bot = telebot.TeleBot(token);\n",
    "        self.is_logging = self.__set_logging(is_logging)\n",
    "        \n",
    "        self.__set_up()\n",
    "    def __set_logging(self,is_logging):\n",
    "        self.is_logging = is_logging\n",
    "        if is_logging:\n",
    "            self.logger = telebot.logger\n",
    "            telebot.logger.setLevel(logging.DEBUG) # Outputs debug messages to console.\n",
    "    \n",
    "    def __set_up(self):\n",
    "    \n",
    "        #@bot.message_handler(content_types=['text', 'photo'])\n",
    "        @bot.message_handler(content_types=['text', 'photo'])\n",
    "        def get_text_messages(message):\n",
    "            if message.content_type == 'photo':\n",
    "                bot.send_message(message.from_user.id, f\"Launch counter: {str(launch_counter)}\")#message.photo)\n",
    "                raw = message.photo[2].file_id\n",
    "                path = raw+\".jpg\"\n",
    "                file_info = bot.get_file(raw)\n",
    "\n",
    "                downloaded_file = bot.download_file(file_info.file_path)\n",
    "                with open(path,'wb') as new_file:\n",
    "                    new_file.write(downloaded_file)\n",
    "\n",
    "    def start(self, non_stop = True, interval = 0, timeout = 20):\n",
    "        ''' После вызова этой функции TeleBot начинает опрашивать серверы Telegram на предмет новых сообщений.\n",
    "        none_stop: True / False (по умолчанию False) - не прекращать опрос при получении ошибки от серверов Telegram\n",
    "\n",
    "        interval: True / False (по умолчанию False) - интервал между запросами на опрос. \n",
    "        изменение этого параметра снижает время отклика бота.\n",
    "\n",
    "        timeout: целое число (по умолчанию 20) - Тайм-аут в секундах для длительного опроса\n",
    "        '''\n",
    "        self.bot.polling(non_stop=non_stop, interval=interval, timeout=timeout)\n",
    "        \n",
    "    "
   ]
  }
 ],
 "metadata": {
  "kernelspec": {
   "display_name": "Python 3 (ipykernel)",
   "language": "python",
   "name": "python3"
  },
  "language_info": {
   "codemirror_mode": {
    "name": "ipython",
    "version": 3
   },
   "file_extension": ".py",
   "mimetype": "text/x-python",
   "name": "python",
   "nbconvert_exporter": "python",
   "pygments_lexer": "ipython3",
   "version": "3.10.5"
  }
 },
 "nbformat": 4,
 "nbformat_minor": 5
}
